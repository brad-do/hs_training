{
 "cells": [
  {
   "cell_type": "code",
   "execution_count": 1,
   "metadata": {},
   "outputs": [],
   "source": [
    "import numpy as np"
   ]
  },
  {
   "cell_type": "markdown",
   "metadata": {},
   "source": [
    "### Fun with numpy arrays"
   ]
  },
  {
   "cell_type": "code",
   "execution_count": 15,
   "metadata": {},
   "outputs": [
    {
     "name": "stdout",
     "output_type": "stream",
     "text": [
      "Types of elements in the array: int32\n",
      "Array type:<class 'numpy.ndarray'>\n",
      "Array shape: (10,)\n",
      "\n",
      "New shape: (2, 5)\n",
      "\n",
      "Array as a list: [0, 1, 2, 3, 4, 5, 6, 7, 8, 9]\n",
      "\n",
      "Mean of the array: 4.5\n",
      "Max value in array: 9\n",
      "Min value in array: 0\n",
      "Array standard deviation: 2.87228\n",
      "Cummulative sum of array: [ 0  1  3  6 10 15 21 28 36 45]\n"
     ]
    }
   ],
   "source": [
    "arr = np.array([0, 1, 2, 3, 4, 5, 6, 7, 8, 9])\n",
    "\n",
    "print(f'Types of elements in the array: {arr.dtype}')\n",
    "print(f'Array type:{type(arr)}')\n",
    "print(f'Array shape: {arr.shape}')\n",
    "\n",
    "reshaped_arr = arr.reshape(2, 5)\n",
    "print(f'\\nNew shape: {reshaped_arr.shape}')\n",
    "\n",
    "print(f'\\nArray as a list: {arr.tolist()}')\n",
    "\n",
    "print(f'\\nMean of the array: {arr.mean()}')\n",
    "print(f'Max value in array: {arr.max()}')\n",
    "print(f'Min value in array: {arr.min()}')\n",
    "print(f'Array standard deviation: {arr.std():.5f}')\n",
    "print(f'Cummulative sum of array: {arr.cumsum()}')"
   ]
  },
  {
   "cell_type": "markdown",
   "metadata": {},
   "source": [
    "### Helpful numpy functions"
   ]
  },
  {
   "cell_type": "code",
   "execution_count": 17,
   "metadata": {},
   "outputs": [
    {
     "data": {
      "text/plain": [
       "array([ 0.        ,  0.71428571,  1.42857143,  2.14285714,  2.85714286,\n",
       "        3.57142857,  4.28571429,  5.        ,  5.71428571,  6.42857143,\n",
       "        7.14285714,  7.85714286,  8.57142857,  9.28571429, 10.        ])"
      ]
     },
     "execution_count": 17,
     "metadata": {},
     "output_type": "execute_result"
    }
   ],
   "source": [
    "np.linspace(0, 10, 15)  # 15 evenly spaced elements between 0 and 10"
   ]
  },
  {
   "cell_type": "code",
   "execution_count": 18,
   "metadata": {},
   "outputs": [
    {
     "data": {
      "text/plain": [
       "array([0, 2, 4, 6, 8])"
      ]
     },
     "execution_count": 18,
     "metadata": {},
     "output_type": "execute_result"
    }
   ],
   "source": [
    "np.arange(0, 10, 2)  # evenly spaced range of values between 0 and 10, step 2\n",
    "\n",
    "# how does this differ from range(0, 10, 2) ?"
   ]
  },
  {
   "cell_type": "code",
   "execution_count": 25,
   "metadata": {},
   "outputs": [
    {
     "name": "stdout",
     "output_type": "stream",
     "text": [
      "The proper sort order is: [0 2 3 1]\n",
      "The first sorted value is: a\n",
      "The last sorted value is: z\n"
     ]
    }
   ],
   "source": [
    "unsorted_arr = np.array(['a', 'z', 'c', 'y'])\n",
    "sort_order = np.argsort(unsorted_arr)\n",
    "\n",
    "print(f'The proper sort order is: {sort_order}')\n",
    "print(f'The first sorted value is: {unsorted_arr[sort_order[0]]}')\n",
    "print(f'The last sorted value is: {unsorted_arr[sort_order[-1]]}')"
   ]
  },
  {
   "cell_type": "code",
   "execution_count": 26,
   "metadata": {},
   "outputs": [
    {
     "data": {
      "text/plain": [
       "array([52.74218963, 47.04941039, 36.85520358, 41.34488499, 62.33456851,\n",
       "       53.94876297, 59.78643509, 59.84302071, 51.86078859, 31.19983169])"
      ]
     },
     "execution_count": 26,
     "metadata": {},
     "output_type": "execute_result"
    }
   ],
   "source": [
    "np.random.normal(50, 10, 10)  # mean, std, number of elements"
   ]
  },
  {
   "cell_type": "markdown",
   "metadata": {},
   "source": [
    "### Collections"
   ]
  },
  {
   "cell_type": "markdown",
   "metadata": {},
   "source": [
    "### Itertools"
   ]
  },
  {
   "cell_type": "markdown",
   "metadata": {},
   "source": [
    "### Xml Element Tree"
   ]
  },
  {
   "cell_type": "markdown",
   "metadata": {},
   "source": [
    "### Requests"
   ]
  },
  {
   "cell_type": "markdown",
   "metadata": {},
   "source": [
    "### Beautiful Soup"
   ]
  },
  {
   "cell_type": "code",
   "execution_count": null,
   "metadata": {},
   "outputs": [],
   "source": []
  },
  {
   "cell_type": "markdown",
   "metadata": {},
   "source": [
    "### Machine Learning\n",
    " - University of Cincinnati professor Bradley Boehmke's site: https://uc-r.github.io/\n",
    " - Which college is best for you?  https://www.kaggle.com/code/apollostar/which-college-is-best-for-you"
   ]
  }
 ],
 "metadata": {
  "kernelspec": {
   "display_name": "app-env",
   "language": "python",
   "name": "python3"
  },
  "language_info": {
   "codemirror_mode": {
    "name": "ipython",
    "version": 3
   },
   "file_extension": ".py",
   "mimetype": "text/x-python",
   "name": "python",
   "nbconvert_exporter": "python",
   "pygments_lexer": "ipython3",
   "version": "3.10.13"
  }
 },
 "nbformat": 4,
 "nbformat_minor": 2
}

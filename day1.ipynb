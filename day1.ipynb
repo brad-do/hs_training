{
 "cells": [
  {
   "cell_type": "markdown",
   "metadata": {},
   "source": [
    "# An introduction to Data Analytics: Day 1\n",
    "### The general steps to data analysis and modeling\n",
    " 1. Problem definition\n",
    " 1. Data extraction\n",
    " 1. Data preparation - data cleaning\n",
    " 1. Data preparation - data transformation\n",
    " 1. Data exploration and visualization\n",
    " 1. Predictive modeling\n",
    " 1. Model validation/testing\n",
    " 1. Visualization and interpretation of results\n",
    " 1. Deployment of the solution (implementation of the solution in the real world)\n",
    " 1. Documentation\n",
    " 1. Monitoring\n",
    "\n",
    "### Key disciplines\n",
    " - Data Engineering\n",
    " - Data Science\n",
    " - Data Repository Management\n",
    "\n",
    "### In many ways, data analytics is just a specialized form of software development.  Let's take a few minutes to discuss some fundamentals of software development:\n",
    " - Project Organization\n",
    "   - How do you/should you organize your projects on your workstation?\n",
    "   - How do you name your folders?  What sort of casing do you use?  Do you include spaces in your names?\n",
    "   - Do you \"insulate\" one project from another?  Virtual environments?  Docker?\n",
    " - How do you organize the artifacts in a given project?\n",
    "   - How do you name your folders and files?  What casing do you use?\n",
    "   - How do you name your variables, functions, classes and other objects in your code?  [Pythonic](https://docs.python-guide.org/writing/style/)?\n",
    "   - Do you comment your code?\n",
    "   - Do you write unit tests?\n",
    "   - Do you employ logging in your code?\n",
    " - Are you using source code control?\n",
    "   - How do you branch your code?\n",
    "   - Do you leverage artifacts like README.md and .gitignore?\n",
    " - How do you manage code deployments?\n",
    "   - CI/CD?\n",
    " - Some References:\n",
    "   - [Clean Code](https://www.amazon.com/Clean-Code-Handbook-Software-Craftsmanship/dp/0132350882)\n",
    "   - [A Philosophy of Software Design](https://www.amazon.com/dp/173210221X)\n",
    "   - [Code Complete](https://www.amazon.com/Code-Complete-Practical-Handbook-Construction/dp/0735619670)\n",
    "   - [Design Patterns](https://www.amazon.com/Design-Patterns-Elements-Reusable-Object-Oriented/dp/0201633612)\n",
    "\n",
    "### Some of the tools we use to perform data analytics:\n",
    " - Spark\n",
    " - Hadoop\n",
    " - SQL / Relational databases\n",
    " - Docker / Kubernetes\n",
    " - Python\n",
    " - Jupyter Notebook\n",
    "\n",
    "### The rest of this training will focus on Python and Jupyter Notebook.\n",
    "\n",
    "### Jupyter Notebook\n",
    " - An HTML based developer environment that can run a number of languages known as \"kernels\".  The IPython kernel is the most popular, used to run different versions of Python.\n",
    " - Jupyter Notebooks typically, but not always, run in a web browser.\n",
    " - The \"Next Generation\" notebook interface is called Jupyter Lab.\n",
    " - A notebook is comprised of \"cells\" that can host code or markdown.\n",
    " - https://jupyter.org/\n",
    " - https://www.youtube.com/c/jupytercon\n",
    " - https://talkpython.fm/episodes/show/438/celebrating-jupyterlab-4-and-jupyter-7-releases\n",
    "\n",
    "### Markdown\n",
    " - A powerful way to document your notebooks\n",
    " - Markdown cells honor Markdown syntax, HTML, and LaTeX.\n",
    " - https://www.markdownguide.org/\n",
    "\n",
    "$E_0 = mc^2$\n",
    "\n",
    "$\\int_0^1 \\frac{dx}{e^x} =  \\frac{e-1}{e}$\n",
    "\n",
    "\n",
    "### Notebook \"modes\", keyboard shortcuts, magic commands, and more\n",
    " - Edit mode and Command mode\n",
    " - [Several keyboard shortcuts](https://www.dataquest.io/blog/jupyter-notebook-tips-tricks-shortcuts/) and menu options\n",
    " - [Magic commands](https://ipython.readthedocs.io/en/stable/interactive/magics.html)\n",
    " - Shell command\n",
    "\n",
    "### Some helpful examples\n",
    " - [A gallery of interesting Jupyter Notebooks](https://github.com/jupyter/jupyter/wiki)\n",
    " - [How to Use Jupyter Notebooks: The Ultimate Guide](https://www.datacamp.com/tutorial/tutorial-jupyter-notebook)\n"
   ]
  },
  {
   "cell_type": "code",
   "execution_count": 2,
   "metadata": {},
   "outputs": [
    {
     "data": {
      "application/json": {
       "cell": {
        "!": "OSMagics",
        "HTML": "Other",
        "SVG": "Other",
        "bash": "Other",
        "capture": "ExecutionMagics",
        "cmd": "Other",
        "code_wrap": "ExecutionMagics",
        "debug": "ExecutionMagics",
        "file": "Other",
        "html": "DisplayMagics",
        "javascript": "DisplayMagics",
        "js": "DisplayMagics",
        "latex": "DisplayMagics",
        "markdown": "DisplayMagics",
        "perl": "Other",
        "prun": "ExecutionMagics",
        "pypy": "Other",
        "python": "Other",
        "python2": "Other",
        "python3": "Other",
        "ruby": "Other",
        "script": "ScriptMagics",
        "sh": "Other",
        "svg": "DisplayMagics",
        "sx": "OSMagics",
        "system": "OSMagics",
        "time": "ExecutionMagics",
        "timeit": "ExecutionMagics",
        "writefile": "OSMagics"
       },
       "line": {
        "alias": "OSMagics",
        "alias_magic": "BasicMagics",
        "autoawait": "AsyncMagics",
        "autocall": "AutoMagics",
        "automagic": "AutoMagics",
        "autosave": "KernelMagics",
        "bookmark": "OSMagics",
        "cd": "OSMagics",
        "clear": "KernelMagics",
        "cls": "KernelMagics",
        "code_wrap": "ExecutionMagics",
        "colors": "BasicMagics",
        "conda": "PackagingMagics",
        "config": "ConfigMagics",
        "connect_info": "KernelMagics",
        "copy": "Other",
        "ddir": "Other",
        "debug": "ExecutionMagics",
        "dhist": "OSMagics",
        "dirs": "OSMagics",
        "doctest_mode": "BasicMagics",
        "echo": "Other",
        "ed": "Other",
        "edit": "KernelMagics",
        "env": "OSMagics",
        "gui": "BasicMagics",
        "hist": "Other",
        "history": "HistoryMagics",
        "killbgscripts": "ScriptMagics",
        "ldir": "Other",
        "less": "KernelMagics",
        "load": "CodeMagics",
        "load_ext": "ExtensionMagics",
        "loadpy": "CodeMagics",
        "logoff": "LoggingMagics",
        "logon": "LoggingMagics",
        "logstart": "LoggingMagics",
        "logstate": "LoggingMagics",
        "logstop": "LoggingMagics",
        "ls": "Other",
        "lsmagic": "BasicMagics",
        "macro": "ExecutionMagics",
        "magic": "BasicMagics",
        "matplotlib": "PylabMagics",
        "mkdir": "Other",
        "more": "KernelMagics",
        "notebook": "BasicMagics",
        "page": "BasicMagics",
        "pastebin": "CodeMagics",
        "pdb": "ExecutionMagics",
        "pdef": "NamespaceMagics",
        "pdoc": "NamespaceMagics",
        "pfile": "NamespaceMagics",
        "pinfo": "NamespaceMagics",
        "pinfo2": "NamespaceMagics",
        "pip": "PackagingMagics",
        "popd": "OSMagics",
        "pprint": "BasicMagics",
        "precision": "BasicMagics",
        "prun": "ExecutionMagics",
        "psearch": "NamespaceMagics",
        "psource": "NamespaceMagics",
        "pushd": "OSMagics",
        "pwd": "OSMagics",
        "pycat": "OSMagics",
        "pylab": "PylabMagics",
        "qtconsole": "KernelMagics",
        "quickref": "BasicMagics",
        "recall": "HistoryMagics",
        "rehashx": "OSMagics",
        "reload_ext": "ExtensionMagics",
        "ren": "Other",
        "rep": "Other",
        "rerun": "HistoryMagics",
        "reset": "NamespaceMagics",
        "reset_selective": "NamespaceMagics",
        "rmdir": "Other",
        "run": "ExecutionMagics",
        "save": "CodeMagics",
        "sc": "OSMagics",
        "set_env": "OSMagics",
        "store": "StoreMagics",
        "sx": "OSMagics",
        "system": "OSMagics",
        "tb": "ExecutionMagics",
        "time": "ExecutionMagics",
        "timeit": "ExecutionMagics",
        "unalias": "OSMagics",
        "unload_ext": "ExtensionMagics",
        "who": "NamespaceMagics",
        "who_ls": "NamespaceMagics",
        "whos": "NamespaceMagics",
        "xdel": "NamespaceMagics",
        "xmode": "BasicMagics"
       }
      },
      "text/plain": [
       "Available line magics:\n",
       "%alias  %alias_magic  %autoawait  %autocall  %automagic  %autosave  %bookmark  %cd  %clear  %cls  %code_wrap  %colors  %conda  %config  %connect_info  %copy  %ddir  %debug  %dhist  %dirs  %doctest_mode  %echo  %ed  %edit  %env  %gui  %hist  %history  %killbgscripts  %ldir  %less  %load  %load_ext  %loadpy  %logoff  %logon  %logstart  %logstate  %logstop  %ls  %lsmagic  %macro  %magic  %matplotlib  %mkdir  %more  %notebook  %page  %pastebin  %pdb  %pdef  %pdoc  %pfile  %pinfo  %pinfo2  %pip  %popd  %pprint  %precision  %prun  %psearch  %psource  %pushd  %pwd  %pycat  %pylab  %qtconsole  %quickref  %recall  %rehashx  %reload_ext  %ren  %rep  %rerun  %reset  %reset_selective  %rmdir  %run  %save  %sc  %set_env  %store  %sx  %system  %tb  %time  %timeit  %unalias  %unload_ext  %who  %who_ls  %whos  %xdel  %xmode\n",
       "\n",
       "Available cell magics:\n",
       "%%!  %%HTML  %%SVG  %%bash  %%capture  %%cmd  %%code_wrap  %%debug  %%file  %%html  %%javascript  %%js  %%latex  %%markdown  %%perl  %%prun  %%pypy  %%python  %%python2  %%python3  %%ruby  %%script  %%sh  %%svg  %%sx  %%system  %%time  %%timeit  %%writefile\n",
       "\n",
       "Automagic is ON, % prefix IS NOT needed for line magics."
      ]
     },
     "execution_count": 2,
     "metadata": {},
     "output_type": "execute_result"
    }
   ],
   "source": [
    "%lsmagic"
   ]
  },
  {
   "cell_type": "markdown",
   "metadata": {},
   "source": [
    "The \"time\" magic command is something I use a lot:"
   ]
  },
  {
   "cell_type": "code",
   "execution_count": 4,
   "metadata": {},
   "outputs": [
    {
     "name": "stdout",
     "output_type": "stream",
     "text": [
      "Starting a long run...\n",
      "Completed long run.\n",
      "CPU times: total: 0 ns\n",
      "Wall time: 10.1 s\n"
     ]
    }
   ],
   "source": [
    "%%time\n",
    "import time\n",
    "\n",
    "print('Starting a long run...')\n",
    "for i in range(10):\n",
    "    time.sleep(1)\n",
    "\n",
    "print('Completed long run.')"
   ]
  },
  {
   "cell_type": "markdown",
   "metadata": {},
   "source": [
    "Shell commands in your notebooks can be helpful, too:"
   ]
  },
  {
   "cell_type": "code",
   "execution_count": 8,
   "metadata": {},
   "outputs": [
    {
     "name": "stdout",
     "output_type": "stream",
     "text": [
      "Python 3.10.13\n"
     ]
    }
   ],
   "source": [
    "!python --version"
   ]
  },
  {
   "cell_type": "markdown",
   "metadata": {},
   "source": [
    "A code example:"
   ]
  },
  {
   "cell_type": "code",
   "execution_count": 1,
   "metadata": {},
   "outputs": [
    {
     "name": "stdout",
     "output_type": "stream",
     "text": [
      "This is loop 0\n",
      "This is loop 1\n",
      "This is loop 2\n",
      "This is loop 3\n",
      "This is loop 4\n"
     ]
    }
   ],
   "source": [
    "# you can print code cells to \"output\" cell underneath\n",
    "for i in range(5):\n",
    "    print(f'This is loop {i}')"
   ]
  },
  {
   "cell_type": "markdown",
   "metadata": {},
   "source": [
    "### Let's review the instructions in README.md\n",
    "\n",
    "### Homework\n",
    "Go through the instructions in the README.md file.  Try to install Anaconda and VS Code on your workstation.  Clone this project from Github and try to create a virtual environment for it."
   ]
  }
 ],
 "metadata": {
  "kernelspec": {
   "display_name": "app-env",
   "language": "python",
   "name": "python3"
  },
  "language_info": {
   "codemirror_mode": {
    "name": "ipython",
    "version": 3
   },
   "file_extension": ".py",
   "mimetype": "text/x-python",
   "name": "python",
   "nbconvert_exporter": "python",
   "pygments_lexer": "ipython3",
   "version": "3.10.13"
  }
 },
 "nbformat": 4,
 "nbformat_minor": 2
}

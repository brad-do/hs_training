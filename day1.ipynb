{
 "cells": [
  {
   "cell_type": "markdown",
   "metadata": {},
   "source": [
    "# An introduction to Data Analytics: Day 1\n",
    "## The general steps to data analysis and modeling\n",
    " 1. Problem definition\n",
    " 1. Data extraction\n",
    " 1. Data preparation - data cleaning\n",
    " 1. Data preparation - data transformation\n",
    " 1. Data exploration and visualization\n",
    " 1. Predictive modeling\n",
    " 1. Model validation/testing\n",
    " 1. Visualization and interpretation of results\n",
    " 1. Deployment of the solution (implementation of the solution in the real world)\n",
    " 1. Documentation\n",
    " 1. Monitoring"
   ]
  },
  {
   "cell_type": "code",
   "execution_count": null,
   "metadata": {},
   "outputs": [],
   "source": []
  }
 ],
 "metadata": {
  "kernelspec": {
   "display_name": "app-env",
   "language": "python",
   "name": "python3"
  },
  "language_info": {
   "name": "python",
   "version": "3.10.13"
  }
 },
 "nbformat": 4,
 "nbformat_minor": 2
}
